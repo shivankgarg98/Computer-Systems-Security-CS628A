{
 "cells": [
  {
   "cell_type": "code",
   "execution_count": 6,
   "metadata": {},
   "outputs": [
    {
     "name": "stdout",
     "output_type": "stream",
     "text": [
      "80\n"
     ]
    }
   ],
   "source": [
    "str = \"c9b659319ea90593cfa70a339ffd4cc39ef0596593f84ac098a75b6791f04994cff05a30c4ff4d88\"\n",
    "print(len(str))"
   ]
  },
  {
   "cell_type": "code",
   "execution_count": 51,
   "metadata": {},
   "outputs": [
    {
     "name": "stdout",
     "output_type": "stream",
     "text": [
      "[201, 182, 89, 49, 158, 169, 5, 147, 207, 167, 10, 51, 159, 253, 76, 195, 158, 240, 89, 101, 147, 248, 74, 192, 152, 167, 91, 103, 145, 240, 73, 148, 207, 240, 90, 48, 196, 255, 77, 136]\n"
     ]
    }
   ],
   "source": [
    "ciphertext = []\n",
    "for i in range(0,len(str),2):\n",
    "    hexa_str = str[i]+str[i+1]\n",
    "    \n",
    "    ciphertext.append(int(hexa_str,16))\n",
    "print(ciphertext)"
   ]
  },
  {
   "cell_type": "code",
   "execution_count": 60,
   "metadata": {},
   "outputs": [
    {
     "name": "stdout",
     "output_type": "stream",
     "text": [
      "[201, 182, 89, 49, 158, 169, 5, 136]\n",
      "[170, 197, 111, 3, 166, 200, 126, 245, 170, 197, 111, 3, 166, 200, 126, 245, 170, 197, 111, 3, 166, 200, 126, 245, 170, 197, 111, 3, 166, 200, 126, 245, 170, 197, 111, 3, 166, 200, 126, 245]\n"
     ]
    }
   ],
   "source": [
    "plaintext = \"cs628a{}\"\n",
    "plaintext = list(plaintext)\n",
    "plaintext = [ord(i) for i in plaintext]\n",
    "cipher = ciphertext[0:7]\n",
    "cipher.append(ciphertext[-1])\n",
    "print(cipher)\n",
    "\n",
    "key = [i^j for i,j in zip(plaintext, cipher)]\n",
    "key = key*5\n",
    "print(key)"
   ]
  },
  {
   "cell_type": "code",
   "execution_count": 65,
   "metadata": {},
   "outputs": [
    {
     "name": "stdout",
     "output_type": "stream",
     "text": [
      "[99, 115, 54, 50, 56, 97, 123, 102, 101, 98, 101, 48, 57, 53, 50, 54, 52, 53, 54, 102, 53, 48, 52, 53, 50, 98, 52, 100, 55, 56, 55, 97, 101, 53, 53, 51, 98, 55, 51, 125]\n",
      "cs628a{febe09526456f50452b4d787ae553b73}\n"
     ]
    }
   ],
   "source": [
    "plaintext = [i^j for i,j in zip(ciphertext,key)]\n",
    "print(plaintext)\n",
    "print(''.join(chr(c) for c in plaintext))"
   ]
  },
  {
   "cell_type": "code",
   "execution_count": null,
   "metadata": {},
   "outputs": [],
   "source": []
  },
  {
   "cell_type": "code",
   "execution_count": null,
   "metadata": {},
   "outputs": [],
   "source": []
  },
  {
   "cell_type": "code",
   "execution_count": null,
   "metadata": {},
   "outputs": [],
   "source": []
  },
  {
   "cell_type": "code",
   "execution_count": null,
   "metadata": {},
   "outputs": [],
   "source": []
  },
  {
   "cell_type": "code",
   "execution_count": null,
   "metadata": {},
   "outputs": [],
   "source": []
  },
  {
   "cell_type": "code",
   "execution_count": null,
   "metadata": {},
   "outputs": [],
   "source": []
  }
 ],
 "metadata": {
  "kernelspec": {
   "display_name": "Python 3",
   "language": "python",
   "name": "python3"
  },
  "language_info": {
   "codemirror_mode": {
    "name": "ipython",
    "version": 3
   },
   "file_extension": ".py",
   "mimetype": "text/x-python",
   "name": "python",
   "nbconvert_exporter": "python",
   "pygments_lexer": "ipython3",
   "version": "3.6.7"
  }
 },
 "nbformat": 4,
 "nbformat_minor": 2
}
